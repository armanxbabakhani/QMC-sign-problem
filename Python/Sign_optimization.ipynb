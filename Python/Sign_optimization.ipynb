{
 "cells": [
  {
   "cell_type": "code",
   "execution_count": 8,
   "metadata": {},
   "outputs": [],
   "source": [
    "import importlib\n",
    "import sign_tools\n",
    "import numpy as np\n",
    "\n",
    "importlib.reload(sign_tools)\n",
    "\n",
    "from sign_tools import *\n"
   ]
  },
  {
   "cell_type": "markdown",
   "metadata": {},
   "source": [
    "### Reading PMR data from input file\n",
    "\n",
    "Reading the original unrotated file..."
   ]
  },
  {
   "cell_type": "code",
   "execution_count": 46,
   "metadata": {},
   "outputs": [
    {
     "name": "stdout",
     "output_type": "stream",
     "text": [
      "The total number of particles are: 8\n",
      "The permutations are [[1, 0, 1, 0, 0, 0, 0, 0], [0, 1, 1, 0, 0, 0, 0, 0], [0, 1, 0, 1, 0, 0, 0, 0], [0, 0, 1, 1, 0, 0, 0, 0], [0, 0, 1, 0, 1, 0, 0, 0], [0, 0, 0, 1, 1, 0, 0, 0], [0, 0, 0, 1, 0, 1, 0, 0], [0, 0, 0, 0, 1, 1, 0, 0], [0, 0, 0, 0, 1, 0, 1, 0], [0, 0, 0, 0, 0, 1, 1, 0], [0, 0, 0, 0, 0, 1, 0, 1], [0, 0, 0, 0, 0, 0, 1, 1], [0, 0, 0, 0, 0, 0, 0, 0]]\n",
      "The diagonals are [([(1+0j), (-1+0j)], [[0, 0, 0, 0, 0, 0, 0, 0], [1, 0, 1, 0, 0, 0, 0, 0]]), ([(1+0j), (-1+0j)], [[0, 0, 0, 0, 0, 0, 0, 0], [0, 1, 1, 0, 0, 0, 0, 0]]), ([(1+0j), (-1+0j)], [[0, 0, 0, 0, 0, 0, 0, 0], [0, 1, 0, 1, 0, 0, 0, 0]]), ([(1+0j), (-1+0j)], [[0, 0, 0, 0, 0, 0, 0, 0], [0, 0, 1, 1, 0, 0, 0, 0]]), ([(1+0j), (-1+0j)], [[0, 0, 0, 0, 0, 0, 0, 0], [0, 0, 1, 0, 1, 0, 0, 0]]), ([(1+0j), (-1+0j)], [[0, 0, 0, 0, 0, 0, 0, 0], [0, 0, 0, 1, 1, 0, 0, 0]]), ([(1+0j), (-1+0j)], [[0, 0, 0, 0, 0, 0, 0, 0], [0, 0, 0, 1, 0, 1, 0, 0]]), ([(1+0j), (-1+0j)], [[0, 0, 0, 0, 0, 0, 0, 0], [0, 0, 0, 0, 1, 1, 0, 0]]), ([(1+0j), (-1+0j)], [[0, 0, 0, 0, 0, 0, 0, 0], [0, 0, 0, 0, 1, 0, 1, 0]]), ([(1+0j), (-1+0j)], [[0, 0, 0, 0, 0, 0, 0, 0], [0, 0, 0, 0, 0, 1, 1, 0]]), ([(1+0j), (-1+0j)], [[0, 0, 0, 0, 0, 0, 0, 0], [0, 0, 0, 0, 0, 1, 0, 1]]), ([(1+0j), (-1+0j)], [[0, 0, 0, 0, 0, 0, 0, 0], [0, 0, 0, 0, 0, 0, 1, 1]]), ([(1+0j), (1+0j), (1+0j), (1+0j), (1+0j), (1+0j), (1+0j), (1+0j), (1+0j), (1+0j), (1+0j), (1+0j)], [[1, 0, 1, 0, 0, 0, 0, 0], [0, 1, 1, 0, 0, 0, 0, 0], [0, 1, 0, 1, 0, 0, 0, 0], [0, 0, 1, 1, 0, 0, 0, 0], [0, 0, 1, 0, 1, 0, 0, 0], [0, 0, 0, 1, 1, 0, 0, 0], [0, 0, 0, 1, 0, 1, 0, 0], [0, 0, 0, 0, 1, 1, 0, 0], [0, 0, 0, 0, 1, 0, 1, 0], [0, 0, 0, 0, 0, 1, 1, 0], [0, 0, 0, 0, 0, 1, 0, 1], [0, 0, 0, 0, 0, 0, 1, 1]])]\n",
      "The initial cost is 194560.0\n"
     ]
    }
   ],
   "source": [
    "N = 8\n",
    "filename = './Inputs/Triangular_Ladder_Heisenberg/Triangular_Heis_n='+str(N)+'.txt'\n",
    "Coefficients, BinaryVectors , NumOfParticles = parse_pauli_file(filename)\n",
    "AllPermsBinary , AllDiagsBinary , PureDiagonals = process_pauli_terms(Coefficients , BinaryVectors , NumOfParticles)\n",
    "InitialTotalCost , CostsQ , CyclesQ = total_cost_from_binary_operators(AllPermsBinary , AllDiagsBinary)\n",
    "if len(PureDiagonals) > 0:\n",
    "    AllPermsBinary.append([0]*NumOfParticles)\n",
    "    AllDiagsBinary.append(PureDiagonals[0])\n",
    "\n",
    "print(f'The permutations are {AllPermsBinary}')\n",
    "print(f'The diagonals are {AllDiagsBinary}')\n",
    "#InitialTotalCost , CostsQ , CyclesQ = total_cost_from_binary_operators(AllPermsBinary , AllDiagsBinary)\n",
    "print(f'The initial cost is {InitialTotalCost}')\n",
    "# CyclesOriginal , N = get_all_cycles_from_file(filename)"
   ]
  },
  {
   "cell_type": "markdown",
   "metadata": {},
   "source": [
    "### Make initial rotations\n",
    "\n",
    "Before full optimization, we start from an enhanced rotations using our two-body unitary $U_2$ with the following structure:\n",
    "\n",
    "$U_{\\text{odd.}} = 1\\otimes U_2 \\otimes U_2 \\otimes \\cdots \\otimes U_2$\n",
    "\n",
    "$U_{\\text{even.}} = 1\\otimes U_2 \\otimes U_2 \\otimes \\cdots \\otimes U_2 \\otimes 1$\n",
    "\n",
    "For even or odd number of spins.\n",
    "\n",
    "\n"
   ]
  },
  {
   "cell_type": "code",
   "execution_count": 194,
   "metadata": {},
   "outputs": [
    {
     "name": "stdout",
     "output_type": "stream",
     "text": [
      "Found a better cost 3552.6542545941643 with addition of pairs [(2, 4), (2, 3)]\n",
      "Found a better cost 2265.408980106035 with addition of pairs [(1, 3), (1, 2)]\n",
      "Found a better cost 1518.659709910358 with addition of pairs [(2, 4)]\n",
      "Found a better cost 1445.5117505050205 with addition of pairs [(1, 2), (2, 4), (1, 3)]\n",
      "Found a better cost 1299.8433297265233 with addition of pairs [(1, 4), (2, 3)]\n",
      "Found a better cost 878.4067765668221 with addition of pairs [(2, 4), (1, 4), (2, 3)]\n",
      "The best cost is 878.4067765668221 with the best pairs [[(2, 4), (2, 3)], [(1, 3), (1, 2)], [(2, 4)], [(1, 2), (2, 4), (1, 3)], [(1, 4), (2, 3)], [(2, 4), (1, 4), (2, 3)]]\n"
     ]
    }
   ],
   "source": [
    "from itertools import combinations\n",
    "\n",
    "# Search over different rotations\n",
    "def generate_combinations(totalnum, totalpairs):\n",
    "    all_pairs = [(i, j) for i in range(1, totalnum) for j in range(i + 1, totalnum)]\n",
    "    # Select totalpairs pairs\n",
    "    random_pairs = random.sample(all_pairs, totalpairs)\n",
    "    return random_pairs\n",
    "\n",
    "BestCost = InitialTotalCost\n",
    "numberoftrials = 250\n",
    "AllPermsBinaryT = AllPermsBinary\n",
    "AllDiagsBinaryT = AllDiagsBinary\n",
    "BestU2pairs = []\n",
    "\n",
    "for i in range(numberoftrials):\n",
    "    r = random.randint(1, int(N/2)+1)\n",
    "    allpairs = generate_combinations(N , r)\n",
    "    for pair in allpairs:\n",
    "        AllPermsBinaryT , AllDiagsBinaryT = apply_U2_rotation(AllPermsBinaryT , AllDiagsBinaryT , pair)\n",
    "    RotatedTotalCost , RotatedCostsQ , RotatedCyclesQ = total_cost_from_binary_operators(AllPermsBinaryT , AllDiagsBinaryT)\n",
    "    if RotatedTotalCost < BestCost:\n",
    "        BestCost = RotatedTotalCost\n",
    "        BestAllPermsBinary = AllPermsBinaryT\n",
    "        BestAllDiagsBinary = AllDiagsBinaryT\n",
    "        BestU2pairs.append(allpairs)\n",
    "        print(f'Found a better cost {BestCost} with addition of pairs {allpairs}')\n",
    "\n",
    "print(f'The best cost is {BestCost} with the best pairs {BestU2pairs}')\n",
    "\n"
   ]
  },
  {
   "cell_type": "code",
   "execution_count": 51,
   "metadata": {},
   "outputs": [
    {
     "name": "stdout",
     "output_type": "stream",
     "text": [
      "The cost after rotation is 13312.000000000002\n",
      "The cost after rotation is {3: 0.0, 4: 3072.0000000000005, 5: 10240.000000000002}\n"
     ]
    }
   ],
   "source": [
    "AllPermsBinaryT = AllPermsBinary\n",
    "AllDiagsBinaryT = AllDiagsBinary\n",
    "# for i in range(int((N-1)/2)):\n",
    "#     U2spins = (2*i+1 , 2*i+2)\n",
    "#     print(f'The spins are {U2spins}')\n",
    "#     AllPermsBinaryT , AllDiagsBinaryT = apply_U2_rotation(AllPermsBinaryT , AllDiagsBinaryT , U2spins)\n",
    "\n",
    "\n",
    "#AllPermsBinaryT , AllDiagsBinaryT = apply_U2_rotation(AllPermsBinaryT , AllDiagsBinaryT , (1 , 2))\n",
    "AllPermsBinaryT , AllDiagsBinaryT = apply_U2_rotation(AllPermsBinaryT , AllDiagsBinaryT , (1 , 2))\n",
    "AllPermsBinaryT , AllDiagsBinaryT = apply_U2_rotation(AllPermsBinaryT , AllDiagsBinaryT , (5 , 6))\n",
    "#AllPermsBinaryT , AllDiagsBinaryT = apply_CNOT(AllPermsBinaryT , AllDiagsBinaryT , [(3,4)])\n",
    "#AllPermsBinaryT , AllDiagsBinaryT = apply_CNOT(AllPermsBinaryT , AllDiagsBinaryT , [(4,5)])\n",
    "#AllPermsBinaryT , AllDiagsBinaryT = apply_U2_rotation(AllPermsBinaryT , AllDiagsBinaryT , (4 , 5))\n",
    "#AllPermsBinaryT , AllDiagsBinaryT = apply_U2_rotation(AllPermsBinaryT , AllDiagsBinaryT , (0 , 6))\n",
    "#AllPermsBinaryT , AllDiagsBinaryT = apply_U2_rotation(AllPermsBinaryT , AllDiagsBinaryT , (0 , 7))\n",
    "\n",
    "#AllPermsBinaryT , AllDiagsBinaryT = apply_U2_rotation(AllPermsBinaryT , AllDiagsBinaryT , (0 , 7))\n",
    "\n",
    "\n",
    "\n",
    "# AllPermsBinaryT , AllDiagsBinaryT = apply_U2_rotation(AllPermsBinaryT , AllDiagsBinaryT , (3,4))\n",
    "# AllPermsBinaryT , AllDiagsBinaryT = apply_U2_rotation(AllPermsBinaryT , AllDiagsBinaryT , (0,1))\n",
    "# AllPermsBinaryT , AllDiagsBinaryT = apply_U2_rotation(AllPermsBinaryT , AllDiagsBinaryT , (5,6))\n",
    "# AllPermsBinaryT , AllDiagsBinaryT = apply_U2_rotation(AllPermsBinaryT , AllDiagsBinaryT , (7,8))\n",
    "# AllPermsBinaryT , AllDiagsBinaryT = apply_U2_rotation(AllPermsBinaryT , AllDiagsBinaryT , (7,8))\n",
    "\n",
    "# for i in range(int((N-1)/4)):\n",
    "#     U2spins = (4*i+1 , 4*i+3)\n",
    "#     print(f'The spins are {U2spins}')\n",
    "#     AllPermsBinaryT , AllDiagsBinaryT = apply_U2_rotation(AllPermsBinaryT , AllDiagsBinaryT , U2spins)\n",
    "\n",
    "#AllPermsBinaryT , AllDiagsBinaryT = apply_U2_rotation(AllPermsBinaryT , AllDiagsBinaryT , (1,2))\n",
    "\n",
    "\n",
    "#AllPermsBinaryT , AllDiagsBinaryT = apply_U2_rotation(AllPermsBinaryT , AllDiagsBinaryT , (0,1))\n",
    "#AllPermsBinaryT , AllDiagsBinaryT = apply_U2_rotation(AllPermsBinaryT , AllDiagsBinaryT , (5,6))\n",
    "\n",
    "#AllPermsBinaryT , AllDiagsBinaryT = apply_single_body(AllPermsBinaryT , AllDiagsBinaryT , [1 ,2] , 'H')\n",
    "\n",
    "# The new cost after rotation:\n",
    "RotatedTotalCost , RotatedCostsQ , RotatedCyclesQ = total_cost_from_binary_operators(AllPermsBinaryT , AllDiagsBinaryT)\n",
    "\n",
    "print(f'The cost after rotation is {RotatedTotalCost}')\n",
    "print(f'The cost after rotation is {RotatedCostsQ}')"
   ]
  },
  {
   "cell_type": "code",
   "execution_count": 52,
   "metadata": {},
   "outputs": [
    {
     "name": "stdout",
     "output_type": "stream",
     "text": [
      "The new cost is 179200.0\n",
      "The transition probability is 0.0\n",
      " \n",
      "The new cost is 180224.0\n",
      "The transition probability is 0.0\n",
      " \n",
      "The new cost is 206848.0\n",
      "The transition probability is 0.0\n",
      " \n",
      "The new cost is 206848.0\n",
      "The transition probability is 0.0\n",
      " \n",
      "The new cost is 4608.000000000001\n",
      "The transition probability is 1.0\n",
      " \n"
     ]
    },
    {
     "name": "stderr",
     "output_type": "stream",
     "text": [
      "/var/folders/y7/l21gv11s0fl71s2rjkzl_w1r0000gn/T/ipykernel_14142/2110979978.py:17: RuntimeWarning: overflow encountered in exp\n",
      "  TransitionProb = np.min([np.exp(-1.0*DeltaCost*(Iteration/10 + InitialTotalCost/10.0)/InitialTotalCost) , 1])\n"
     ]
    },
    {
     "ename": "NameError",
     "evalue": "name 'TransformationSinceBest' is not defined",
     "output_type": "error",
     "traceback": [
      "\u001b[0;31m---------------------------------------------------------------------------\u001b[0m",
      "\u001b[0;31mNameError\u001b[0m                                 Traceback (most recent call last)",
      "Cell \u001b[0;32mIn[52], line 27\u001b[0m\n\u001b[1;32m     25\u001b[0m AbsoluteBestAllPermsBinary \u001b[38;5;241m=\u001b[39m AllPermsBinaryNew\n\u001b[1;32m     26\u001b[0m AbsoluteBestAllDiagsBinary \u001b[38;5;241m=\u001b[39m AllDiagsBinaryNew\n\u001b[0;32m---> 27\u001b[0m BestTransformations\u001b[38;5;241m.\u001b[39mappend(\u001b[43mTransformationSinceBest\u001b[49m)\n\u001b[1;32m     28\u001b[0m TransformationSinceBest \u001b[38;5;241m=\u001b[39m []\n\u001b[1;32m     29\u001b[0m AbsoluteBestFound \u001b[38;5;241m=\u001b[39m \u001b[38;5;28;01mTrue\u001b[39;00m\n",
      "\u001b[0;31mNameError\u001b[0m: name 'TransformationSinceBest' is not defined"
     ]
    }
   ],
   "source": [
    "TotalCost = RotatedTotalCost\n",
    "BestCost = RotatedTotalCost\n",
    "AbsoluteBest = BestCost\n",
    "AbsoluteBestFound = False\n",
    "AllTransformations = []\n",
    "BestTransformations = []\n",
    "\n",
    "MaxIterations = 200\n",
    "Iteration = 0\n",
    "Probabilities = [0.5 , 0.25 , 0.25]\n",
    "# ================= Simulated annealing \n",
    "while TotalCost > TotalCost/500 and Iteration < MaxIterations:\n",
    "    AllPermsBinaryNew , AllDiagsBinaryNew , Transformation = apply_random_transformation(Probabilities , AllPermsBinary , AllDiagsBinary , NumOfParticles)\n",
    "    TotalCost , CostsQ , CyclesQ = total_cost_from_binary_operators(AllPermsBinaryNew , AllDiagsBinaryNew)\n",
    "\n",
    "    DeltaCost = TotalCost - BestCost\n",
    "    TransitionProb = np.min([np.exp(-1.0*DeltaCost*(Iteration/10 + InitialTotalCost/10.0)/InitialTotalCost) , 1])\n",
    "    print(f'The new cost is {TotalCost}')\n",
    "    print(f'The transition probability is {TransitionProb}')\n",
    "    print(' ')\n",
    "    p = random.random()\n",
    "    Iteration += 1\n",
    "    if p < TransitionProb:\n",
    "        AllPermsBinary = AllPermsBinaryNew\n",
    "        AllDiagsBinary = AllDiagsBinaryNew\n",
    "        BestCost = TotalCost\n",
    "        AllTransformations.append(Transformation)\n",
    "        TransformationSinceBest.append(Transformation)\n",
    "        print('The transformation has been accepted!')\n",
    "        print(' ')\n",
    "        print(' ')\n",
    "    if TotalCost < AbsoluteBest:\n",
    "        AbsoluteBest = TotalCost\n",
    "        AbsoluteBestAllPermsBinary = AllPermsBinaryNew\n",
    "        AbsoluteBestAllDiagsBinary = AllDiagsBinaryNew\n",
    "        BestTransformations.append(TransformationSinceBest)\n",
    "        TransformationSinceBest = []\n",
    "        AbsoluteBestFound = True\n",
    "\n",
    "if AbsoluteBestFound:\n",
    "    AllPermsBinary = AbsoluteBestAllPermsBinary\n",
    "    AllDiagsBinary = AbsoluteBestAllDiagsBinary\n",
    "# Get the pure diagonal term:\n",
    "PureDiagonals = []\n",
    "for i in range(len(AllPermsBinary)):\n",
    "    if AllPermsBinary[i] == [0]*NumOfParticles:\n",
    "        PureDiagonals = AllDiagsBinary[i]\n",
    "        IdentityIndex = i\n",
    "\n",
    "print(f'The best cost is {BestCost}')\n",
    "print(f'The best transformations is {AllTransformations}')\n",
    "\n",
    "AllPermsBinary = AllPermsBinary[:IdentityIndex]+AllPermsBinary[IdentityIndex+1:]\n",
    "AllDiagsBinary = AllDiagsBinary[:IdentityIndex]+AllDiagsBinary[IdentityIndex+1:]"
   ]
  },
  {
   "cell_type": "code",
   "execution_count": 45,
   "metadata": {},
   "outputs": [],
   "source": [
    "\n",
    "PureDiagonals = []\n",
    "for i in range(len(AllPermsBinaryT)):\n",
    "    if AllPermsBinaryT[i] == [0]*NumOfParticles:\n",
    "        PureDiagonals = AllDiagsBinaryT[i]\n",
    "        IdentityIndex = i\n",
    "\n",
    "AllPermsBinary = AllPermsBinaryT[:IdentityIndex]+AllPermsBinaryT[IdentityIndex+1:]\n",
    "AllDiagsBinary = AllDiagsBinaryT[:IdentityIndex]+AllDiagsBinaryT[IdentityIndex+1:]\n",
    "generate_pauli_file_from_pmr_data(filename.removesuffix(\".txt\")+'_U2.txt', AllPermsBinary , AllDiagsBinary , PureDiagonals)\n"
   ]
  },
  {
   "cell_type": "markdown",
   "metadata": {},
   "source": []
  }
 ],
 "metadata": {
  "kernelspec": {
   "display_name": "Python 3",
   "language": "python",
   "name": "python3"
  },
  "language_info": {
   "codemirror_mode": {
    "name": "ipython",
    "version": 3
   },
   "file_extension": ".py",
   "mimetype": "text/x-python",
   "name": "python",
   "nbconvert_exporter": "python",
   "pygments_lexer": "ipython3",
   "version": "3.9.6"
  }
 },
 "nbformat": 4,
 "nbformat_minor": 2
}
